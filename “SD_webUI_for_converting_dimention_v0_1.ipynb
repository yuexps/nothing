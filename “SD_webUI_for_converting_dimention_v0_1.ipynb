{
  "cells": [
    {
      "cell_type": "markdown",
      "metadata": {
        "id": "view-in-github",
        "colab_type": "text"
      },
      "source": [
        "<a href=\"https://colab.research.google.com/github/yuyue-xp/yuyue-xp/blob/main/%E2%80%9CSD_webUI_for_converting_dimention_v0_1.ipynb\" target=\"_parent\"><img src=\"https://colab.research.google.com/assets/colab-badge.svg\" alt=\"Open In Colab\"/></a>"
      ]
    },
    {
      "cell_type": "markdown",
      "source": [
        "Derived from https://colab.research.google.com/github/yuyue-xp/yuyue-xp/blob/main/“SD_webUI_for_converting_dimention_v0_1.ipynb\n",
        "\n",
        "# 辉夜海林顿、Hronrad\n",
        "\n",
        "点击上方“代码执行程序”-“全部运行”即可\n",
        "# 防止页面断线可复制激活代码\n",
        "function ConnectButton(){\n",
        "    console.log(\"Connect pushed\"); \n",
        "    document.querySelector(\"#top-toolbar > colab-connect-button\").shadowRoot.querySelector(\"#connect\").click() \n",
        "}\n",
        "setInterval(ConnectButton,60000);\n",
        "\n",
        "#汉化教程\n",
        "1.打开stable diffusion webui，进入\"Extensions\"选项卡\n",
        "\n",
        "2.点击\"Install from URL\"，注意\"URL for extension's git repository\"下方的输入框\n",
        "\n",
        "3.粘贴或输入本Git仓库地址https://github.com/VinsonLaro/stable-diffusion-webui-chinese\n",
        "\n",
        "4.点击下方的黄色按钮\"Install\"即可完成安装，然后重启WebUI(点击\"Install from URL\"左方的\"Installed\"，然后点击黄色按钮\"Apply and restart UI\"网页下方的\"Reload UI\"完成重启)\n",
        "\n",
        "5.点击\"Settings\"，左侧点击\"User interface\"界面，在界面里最下方的\"Localization (requires restart)\"，选择\"Chinese-All\"或者\"Chinese-English\"\n",
        "\n",
        "6.点击界面最上方的黄色按钮\"Apply settings\"，再点击右侧的\"Reload UI\"即可完成汉化"
      ],
      "metadata": {
        "id": "Ipn7XW8YzGKb"
      }
    },
    {
      "cell_type": "code",
      "source": [
        "from google.colab import drive\n",
        "drive.mount('/content/drive')#装载谷歌云盘 注意有弹窗需要确定 如果这一步不能执行请复制一份，然后把这里的drive.mount改为drive._mount"
      ],
      "metadata": {
        "id": "YsjGowFuAYaz"
      },
      "execution_count": null,
      "outputs": []
    },
    {
      "cell_type": "code",
      "execution_count": null,
      "metadata": {
        "id": "SaAJk33ppFw1"
      },
      "outputs": [],
      "source": [
        "!apt-get -y install -qq aria2\n",
        "%cd /content/\n",
        "!pip install -q https://github.com/camenduru/stable-diffusion-webui-colab/releases/download/0.0.16/xformers-0.0.16+814314d.d20230118-cp38-cp38-linux_x86_64.whl\n",
        "!pip install -q --pre triton\n",
        "\n",
        "!git clone https://github.com/AUTOMATIC1111/stable-diffusion-webui\n",
        "!wget -b https://raw.githubusercontent.com/camenduru/stable-diffusion-webui-scripts/main/run_n_times.py -O /content/stable-diffusion-webui/scripts/run_n_times.py\n",
        "\n",
        "!curl -Lo chilloutmixni.safetensors https://huggingface.co/nolanaatama/chomni/resolve/main/chomni.safetensors\n",
        "!curl -Lo vae-ft-mse-840000-ema-pruned.safetensors https://huggingface.co/stabilityai/sd-vae-ft-mse-original/tree/main/vae-ft-mse-840000-ema-pruned.safetensors\n",
        "\n",
        "!mv \"/content/chilloutmixni.safetensors\" \"/content/stable-diffusion-webui/models/Stable-diffusion\"\n",
        "!mv \"/content/vae-ft-mse-840000-ema-pruned.safetensors\" \"/content/stable-diffusion-webui/models/VAE\"\n",
        "!mv \"/content/stable-diffusion-webui/models/VAE/vae-ft-mse-840000-ema-pruned.safetensors\" \"/content/stable-diffusion-webui/models/VAE/vae-ft-mse-840000-ema-pruned.vae.safetensors\"\n",
        "\n",
        "!mkdir \"/content/stable-diffusion-webui/models/Lora/\"\n",
        "!cp \"/content/drive/MyDrive/AI/models/safetensors/breastinclassBetter_v13.safetensors\" \"/content/stable-diffusion-webui/models/Lora/breastinclassBetter_v13.safetensors\"\n",
        "!cp \"/content/drive/MyDrive/AI/models/safetensors/japaneseDollLikeness_v10.safetensors\" \"/content/stable-diffusion-webui/models/Lora/japaneseDollLikeness_v10.safetensors\"\n",
        "!cp \"/content/drive/MyDrive/AI/models/safetensors/koreanDollLikeness_v15.safetensors\" \"/content/stable-diffusion-webui/models/Lora/koreanDollLikeness_v15.safetensors\"\n",
        "!cp \"/content/drive/MyDrive/AI/models/safetensors/taiwanDollLikeness_v10.safetensors\" \"/content/stable-diffusion-webui/models/Lora/taiwanDollLikeness_v10.safetensors\"\n",
        "!cp \"/content/drive/MyDrive/AI/models/safetensors/yaeMikoRealistic_yaemikoMixed.safetensors\" \"/content/stable-diffusion-webui/models/Lora/yaeMikoRealistic_yaemikoMixed.safetensors\"\n",
        "#LORA文件地址需要自行修改（上面这行）\n",
        "\n",
        "%cd /content/stable-diffusion-webui\n",
        "\n",
        "#删除下面这行的#号会多下载一个原版SD1.5模型供使用\n",
        "#!aria2c --console-log-level=error -c -x 16 -s 16 -k 1M https://huggingface.co/ckpt/sd15/resolve/main/v1-5-pruned-emaonly.ckpt -d /content/stable-diffusion-webui/models/Stable-diffusion -o v1-5-pruned-emaonly.ckpt\n",
        "!sed -i -e '''/prepare_environment()/a\\    os.system\\(f\\\"\"\"sed -i -e ''\\\"s/self.logvar\\\\[t\\\\]/self.logvar\\\\[t.item()\\\\]/g\\\"'' /content/stable-diffusion-webui/repositories/stable-diffusion-stability-ai/ldm/models/diffusion/ddpm.py\"\"\")''' /content/stable-diffusion-webui/launch.py\n",
        "!sed -i -e '''/prepare_environment()/a\\    os.system\\(f\\\"\"\"sed -i -e ''\\\"s/dict()))/dict())).cuda()/g\\\"'' /content/stable-diffusion-webui/repositories/stable-diffusion-stability-ai/ldm/util.py\"\"\")''' /content/stable-diffusion-webui/launch.py\n",
        "\n",
        "!python launch.py --share --disable-safe-unpickle --no-half-vae --xformers --enable-insecure-extension-access\n"
      ]
    },
    {
      "cell_type": "code",
      "source": [],
      "metadata": {
        "id": "GLp4JEweD0OD"
      },
      "execution_count": null,
      "outputs": []
    }
  ],
  "metadata": {
    "accelerator": "GPU",
    "colab": {
      "private_outputs": true,
      "provenance": [],
      "include_colab_link": true
    },
    "gpuClass": "standard",
    "kernelspec": {
      "display_name": "Python 3",
      "name": "python3"
    },
    "language_info": {
      "name": "python"
    }
  },
  "nbformat": 4,
  "nbformat_minor": 0
}